{
 "cells": [
  {
   "cell_type": "code",
   "execution_count": 4,
   "metadata": {},
   "outputs": [],
   "source": [
    "import nltk\n",
    "from nltk.corpus import stopwords\n",
    "from nltk.stem import WordNetLemmatizer\n",
    "from nltk.tokenize import word_tokenize, sent_tokenize\n",
    "import re\n",
    "import numpy as np\n",
    "from sklearn.feature_extraction.text import TfidfVectorizer\n",
    "from rouge import Rouge\n",
    "import joblib"
   ]
  },
  {
   "cell_type": "code",
   "execution_count": 5,
   "metadata": {},
   "outputs": [
    {
     "name": "stderr",
     "output_type": "stream",
     "text": [
      "[nltk_data] Downloading package punkt to\n",
      "[nltk_data]     C:\\Users\\yakuma\\AppData\\Roaming\\nltk_data...\n",
      "[nltk_data]   Package punkt is already up-to-date!\n",
      "[nltk_data] Downloading package stopwords to\n",
      "[nltk_data]     C:\\Users\\yakuma\\AppData\\Roaming\\nltk_data...\n",
      "[nltk_data]   Package stopwords is already up-to-date!\n",
      "[nltk_data] Downloading package wordnet to\n",
      "[nltk_data]     C:\\Users\\yakuma\\AppData\\Roaming\\nltk_data...\n",
      "[nltk_data]   Package wordnet is already up-to-date!\n"
     ]
    },
    {
     "data": {
      "text/plain": [
       "True"
      ]
     },
     "execution_count": 5,
     "metadata": {},
     "output_type": "execute_result"
    }
   ],
   "source": [
    "# Download required NLTK data\n",
    "nltk.download('punkt')\n",
    "nltk.download('stopwords')\n",
    "nltk.download('wordnet')"
   ]
  },
  {
   "cell_type": "code",
   "execution_count": 6,
   "metadata": {},
   "outputs": [],
   "source": [
    "# Initialize Rouge for evaluation\n",
    "rouge_scorer = Rouge()"
   ]
  },
  {
   "cell_type": "code",
   "execution_count": 7,
   "metadata": {},
   "outputs": [],
   "source": [
    "class TextSummarizer:\n",
    "    def __init__(self):\n",
    "        self.stop_words = set(stopwords.words('english'))\n",
    "        self.lemmatizer = WordNetLemmatizer()\n",
    "        self.vectorizer = TfidfVectorizer(stop_words='english')\n",
    "\n",
    "    def preprocess_text(self, text):\n",
    "        # Convert to lowercase\n",
    "        text = text.lower()\n",
    "        # Remove special characters and numbers\n",
    "        text = re.sub(r'[^a-zA-Z\\s]', '', text)\n",
    "        # Tokenize\n",
    "        words = word_tokenize(text)\n",
    "        # Remove stopwords and lemmatize\n",
    "        words = [self.lemmatizer.lemmatize(word) for word in words if word not in self.stop_words]\n",
    "        return ' '.join(words)\n",
    "\n",
    "    def get_sentence_scores(self, text):\n",
    "        sentences = sent_tokenize(text)\n",
    "        # Preprocess sentences\n",
    "        processed_sentences = [self.preprocess_text(sentence) for sentence in sentences]\n",
    "\n",
    "        # Calculate TF-IDF scores\n",
    "        tfidf_matrix = self.vectorizer.fit_transform(processed_sentences)\n",
    "\n",
    "        # Calculate sentence scores based on TF-IDF weights\n",
    "        sentence_scores = []\n",
    "        for i in range(len(sentences)):\n",
    "            score = np.mean(tfidf_matrix[i].toarray())\n",
    "            sentence_scores.append((sentences[i], score))\n",
    "\n",
    "        return sentence_scores\n",
    "\n",
    "    def summarize(self, text, num_sentences=3):\n",
    "        if not text:\n",
    "            return \"\"\n",
    "\n",
    "        # Get sentence scores\n",
    "        sentence_scores = self.get_sentence_scores(text)\n",
    "\n",
    "        # Sort sentences by score\n",
    "        sentence_scores.sort(key=lambda x: x[1], reverse=True)\n",
    "\n",
    "        # Select top n sentences\n",
    "        selected_sentences = [sentence[0] for sentence in sentence_scores[:num_sentences]]\n",
    "\n",
    "        # Sort sentences by their original position\n",
    "        original_sentences = sent_tokenize(text)\n",
    "        final_sentences = [sent for sent in original_sentences if sent in selected_sentences]\n",
    "\n",
    "        return ' '.join(final_sentences)"
   ]
  },
  {
   "cell_type": "code",
   "execution_count": 9,
   "metadata": {},
   "outputs": [],
   "source": [
    "from text_summarizer import TextSummarizer\n",
    "\n",
    "# Train and save the summarizer\n",
    "summarizer = TextSummarizer()\n"
   ]
  },
  {
   "cell_type": "code",
   "execution_count": 10,
   "metadata": {},
   "outputs": [],
   "source": [
    "import pandas as pd\n",
    "\n",
    "# Load the dataset and train if needed\n",
    "train_df = pd.read_csv('train.csv')\n",
    "val_df = pd.read_csv('validation.csv')\n",
    "test_df = pd.read_csv('test.csv')"
   ]
  },
  {
   "cell_type": "code",
   "execution_count": 17,
   "metadata": {},
   "outputs": [
    {
     "name": "stdout",
     "output_type": "stream",
     "text": [
      "Training the summarizer...\n"
     ]
    }
   ],
   "source": [
    "# Train the summarizer\n",
    "print(\"Training the summarizer...\")\n",
    "train_sample = train_df['article'].tolist()  \n",
    "for text in train_sample:\n",
    "    summarizer.summarize(text)"
   ]
  },
  {
   "cell_type": "code",
   "execution_count": 11,
   "metadata": {},
   "outputs": [
    {
     "name": "stdout",
     "output_type": "stream",
     "text": [
      "Evaluating the summarizer...\n",
      "\n",
      "Validation ROUGE Scores:\n",
      "========================================\n",
      "\n",
      "ROUGE-1:\n",
      "--------------------\n",
      "Precision: 0.2207\n",
      "Recall:    0.4000\n",
      "F1-Score:  0.2762\n",
      "\n",
      "ROUGE-2:\n",
      "--------------------\n",
      "Precision: 0.0721\n",
      "Recall:    0.1376\n",
      "F1-Score:  0.0911\n",
      "\n",
      "ROUGE-L:\n",
      "--------------------\n",
      "Precision: 0.1997\n",
      "Recall:    0.3616\n",
      "F1-Score:  0.2498\n"
     ]
    }
   ],
   "source": [
    "# Evaluate on a sample of validation data\n",
    "print(\"Evaluating the summarizer...\")\n",
    "val_sample = val_df\n",
    "val_summaries = [summarizer.summarize(text, num_sentences=3) for text in val_sample['article'].values]\n",
    "val_highlights = val_sample['highlights'].tolist()\n",
    "val_scores = rouge_scorer.get_scores(val_summaries, val_highlights, avg=True)\n",
    "\n",
    "# Print scores in a formatted way\n",
    "print(\"\\nValidation ROUGE Scores:\")\n",
    "print(\"=\" * 40)\n",
    "\n",
    "for rouge_type, scores in val_scores.items():\n",
    "    print(f\"\\n{rouge_type.upper()}:\")\n",
    "    print(\"-\" * 20)\n",
    "    print(f\"Precision: {scores['p']:.4f}\")\n",
    "    print(f\"Recall:    {scores['r']:.4f}\")\n",
    "    print(f\"F1-Score:  {scores['f']:.4f}\")"
   ]
  },
  {
   "cell_type": "code",
   "execution_count": 10,
   "metadata": {},
   "outputs": [
    {
     "data": {
      "text/plain": [
       "['text_summarizer_model.joblib']"
      ]
     },
     "execution_count": 10,
     "metadata": {},
     "output_type": "execute_result"
    }
   ],
   "source": [
    "# Save the trained model\n",
    "joblib.dump(summarizer, 'text_summarizer_model.joblib')"
   ]
  },
  {
   "cell_type": "code",
   "execution_count": 12,
   "metadata": {},
   "outputs": [
    {
     "name": "stdout",
     "output_type": "stream",
     "text": [
      "\n",
      "Testing the saved model...\n",
      "Test Summary: I am writing to express my deep frustration and concern regarding the deplorable condition of the main road in our neighborhood. The lack of maintenance and timely repairs is unacceptable and reflects poorly on the administration's commitment to public safety.\n"
     ]
    }
   ],
   "source": [
    "# Test loading and using the model\n",
    "print(\"\\nTesting the saved model...\")\n",
    "loaded_summarizer = joblib.load('text_summarizer_model.joblib')\n",
    "test_text = \"I am writing to express my deep frustration and concern regarding the deplorable condition of the main road in our neighborhood. Over the past few months, the road has deteriorated significantly, and it is now riddled with numerous potholes of varying sizes. These potholes pose a serious hazard to both drivers and pedestrians. Every day, I witness vehicles swerving dangerously to avoid these craters, which increases the risk of accidents. The situation is particularly dire during the rainy season when the potholes fill with water, making them even more difficult to see and navigate. This not only damages vehicles but also endangers the lives of those who use the road. Despite multiple complaints to the local authorities, no action has been taken to repair the road. The lack of maintenance and timely repairs is unacceptable and reflects poorly on the administration's commitment to public safety. I urge the concerned authorities to prioritize the repair of this road to prevent any further accidents and ensure the safety of all residents.\"\n",
    "summary = loaded_summarizer.summarize(test_text, num_sentences=2)\n",
    "print(\"Test Summary:\", summary)"
   ]
  },
  {
   "cell_type": "code",
   "execution_count": 19,
   "metadata": {},
   "outputs": [
    {
     "name": "stdout",
     "output_type": "stream",
     "text": [
      "\n",
      "Detailed ROUGE Scores Statistics:\n",
      "==================================================\n",
      "\n",
      "ROUGE-1:\n",
      "R: 0.4000\n",
      "P: 0.2207\n",
      "F: 0.2762\n",
      "\n",
      "ROUGE-2:\n",
      "R: 0.1376\n",
      "P: 0.0721\n",
      "F: 0.0911\n",
      "\n",
      "ROUGE-L:\n",
      "R: 0.3616\n",
      "P: 0.1997\n",
      "F: 0.2498\n"
     ]
    },
    {
     "data": {
      "image/png": "[encoded data removed]",
      "text/plain": [
       "<Figure size 1500x1000 with 1 Axes>"
      ]
     },
     "metadata": {},
     "output_type": "display_data"
    }
   ],
   "source": [
    "import matplotlib.pyplot as plt\n",
    "import seaborn as sns\n",
    "import pandas as pd\n",
    "import numpy as np\n",
    "\n",
    "def visualize_rouge_scores(val_scores):\n",
    "    # Convert ROUGE scores to a more plottable format\n",
    "    data = {\n",
    "        'Metric': [],\n",
    "        'Score Type': [],\n",
    "        'Value': []\n",
    "    }\n",
    "    \n",
    "    for rouge_type, scores in val_scores.items():\n",
    "        for score_type, value in scores.items():\n",
    "            data['Metric'].append(rouge_type.upper())\n",
    "            data['Score Type'].append(score_type.upper())\n",
    "            data['Value'].append(value)\n",
    "    \n",
    "    df = pd.DataFrame(data)\n",
    "    \n",
    "    # Create subplots\n",
    "    fig = plt.figure(figsize=(15, 10))\n",
    "    \n",
    "    # 1. Bar plot comparing all metrics\n",
    "    plt.subplot(2, 2, 1)\n",
    "    sns.barplot(data=df, x='Metric', y='Value', hue='Score Type', palette='viridis')\n",
    "    plt.title('ROUGE Scores Comparison')\n",
    "    plt.xticks(rotation=45)\n",
    "    plt.ylim(0, max(df['Value']) + 0.1)\n",
    "    \n",
    "    # Add value labels on bars\n",
    "    for container in plt.gca().containers:\n",
    "        plt.bar_label(container, fmt='%.3f', padding=3)\n",
    "    \n",
    "    # # 2. Horizontal bar chart for F1 scores\n",
    "    # plt.subplot(2, 2, 2)\n",
    "    # f1_scores = df[df['Score Type'] == 'F']\n",
    "    # sns.barplot(data=f1_scores, y='Metric', x='Value', hue='Metric', palette='rocket', orient='h')\n",
    "    # plt.title('F1 Scores by ROUGE Metric')\n",
    "    # plt.xlabel('F1 Score')\n",
    "    \n",
    "    # # Add value labels\n",
    "    # for i, v in enumerate(f1_scores['Value']):\n",
    "    #     plt.text(v, i, f'{v:.3f}', va='center', padding=5)\n",
    "    \n",
    "    # # 3. Spider/Radar chart for all metrics\n",
    "    # ax = plt.subplot(2, 2, (3, 4), projection='polar')\n",
    "    \n",
    "    # # Prepare data for radar chart\n",
    "    # categories = df['Metric'].unique()\n",
    "    # score_types = df['Score Type'].unique()\n",
    "    # angles = np.linspace(0, 2*np.pi, len(categories), endpoint=False)\n",
    "    \n",
    "    # # Close the plot by appending first value\n",
    "    # angles = np.concatenate((angles, [angles[0]]))\n",
    "    \n",
    "    # # Plot each score type\n",
    "    # for score_type in score_types:\n",
    "    #     values = df[df['Score Type'] == score_type]['Value'].values\n",
    "    #     values = np.concatenate((values, [values[0]]))\n",
    "    #     ax.plot(angles, values, 'o-', linewidth=2, label=score_type)\n",
    "    #     ax.fill(angles, values, alpha=0.25)\n",
    "    \n",
    "    # # Set the labels\n",
    "    # ax.set_xticks(angles[:-1])\n",
    "    # ax.set_xticklabels(categories)\n",
    "    # ax.set_ylim(0, max(df['Value']) + 0.1)\n",
    "    # plt.title('ROUGE Scores Radar Chart')\n",
    "    # plt.legend(loc='upper right', bbox_to_anchor=(1.3, 1.1))\n",
    "    \n",
    "    # plt.tight_layout()\n",
    "    # plt.show()\n",
    "\n",
    "    # Print detailed statistics\n",
    "    print(\"\\nDetailed ROUGE Scores Statistics:\")\n",
    "    print(\"=\" * 50)\n",
    "    for rouge_type in df['Metric'].unique():\n",
    "        print(f\"\\n{rouge_type}:\")\n",
    "        for score_type in df['Score Type'].unique():\n",
    "            value = df[(df['Metric'] == rouge_type) & \n",
    "                      (df['Score Type'] == score_type)]['Value'].values[0]\n",
    "            print(f\"{score_type}: {value:.4f}\")\n",
    "\n",
    "# Use the function with your validation scores\n",
    "# Assuming val_scores is your dictionary of ROUGE scores\n",
    "visualize_rouge_scores(val_scores)"
   ]
  }
 ],
 "metadata": {
  "kernelspec": {
   "display_name": "venv",
   "language": "python",
   "name": "python3"
  },
  "language_info": {
   "codemirror_mode": {
    "name": "ipython",
    "version": 3
   },
   "file_extension": ".py",
   "mimetype": "text/x-python",
   "name": "python",
   "nbconvert_exporter": "python",
   "pygments_lexer": "ipython3",
   "version": "3.9.13"
  }
 },
 "nbformat": 4,
 "nbformat_minor": 2
}
